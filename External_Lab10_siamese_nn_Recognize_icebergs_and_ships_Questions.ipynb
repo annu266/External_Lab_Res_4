{
  "nbformat": 4,
  "nbformat_minor": 0,
  "metadata": {
    "colab": {
      "name": "Lab-siamese-nn-Recognize icebergs and ships-Questions.ipynb",
      "version": "0.3.2",
      "provenance": [],
      "collapsed_sections": []
    },
    "language_info": {
      "codemirror_mode": {
        "name": "ipython",
        "version": 3
      },
      "file_extension": ".py",
      "mimetype": "text/x-python",
      "name": "python",
      "nbconvert_exporter": "python",
      "pygments_lexer": "ipython3",
      "version": "3.6.8"
    },
    "kernelspec": {
      "display_name": "Python 3",
      "language": "python",
      "name": "python3"
    }
  },
  "cells": [
    {
      "cell_type": "markdown",
      "metadata": {
        "_cell_guid": "608e43e3-8699-4299-9d18-9e9a6a3dd9bf",
        "_uuid": "434ffd54c774edd4e8b851ab0a4b6675425e46da",
        "id": "LuQ8GltM0Gs9",
        "colab_type": "text"
      },
      "source": [
        "# Siamese Neural Networks\n",
        "Recognize images of icebergs from images of ships. \n",
        "These images were taken from space with a Sentinel-4 satellite. The goal was to create the most accurate neural network to differentiate them. However, neural networks usually only work well with A LOT of data, and I constrained you guys to 1000 examples to train on. That seems like a lot, but a CONVENTIONAL neural network needs more data. However, we are going to make a special kind of neural network: *Siamese Network*. This special network is used for face recognition and few-shot learning(learning from few examples). Let's get started by importing the usual liraries:"
      ]
    },
    {
      "cell_type": "code",
      "metadata": {
        "_cell_guid": "b1076dfc-b9ad-4769-8c92-a6c4dae69d19",
        "_uuid": "8f2839f25d086af736a60e9eeb907d3b93b6e0e5",
        "id": "u5uvuem40GtG",
        "colab_type": "code",
        "colab": {
          "base_uri": "https://localhost:8080/",
          "height": 35
        },
        "outputId": "531ac48a-54f0-4747-cc8e-fe02cba88e16"
      },
      "source": [
        "# Downloading packages\n",
        "\n",
        "from keras.layers import Input, Conv2D, Lambda, merge, Dense, Flatten,MaxPooling2D,Activation, Dropout\n",
        "from keras.models import Model, Sequential\n",
        "from keras.regularizers import l2\n",
        "from keras import backend as K\n",
        "from keras.optimizers import Adam\n",
        "from skimage.io import imshow\n",
        "import matplotlib.pyplot as plt\n",
        "import numpy as np\n",
        "import pandas as pd\n",
        "import random"
      ],
      "execution_count": 1,
      "outputs": [
        {
          "output_type": "stream",
          "text": [
            "Using TensorFlow backend.\n"
          ],
          "name": "stderr"
        }
      ]
    },
    {
      "cell_type": "markdown",
      "metadata": {
        "_cell_guid": "adbffb0a-1784-4595-b3f2-2ea930abc31f",
        "_uuid": "b9200b733a896e4b6f261122fe9134c00955cc91",
        "id": "bzYGbY320Gtb",
        "colab_type": "text"
      },
      "source": [
        "## Load the Data\n"
      ]
    },
    {
      "cell_type": "code",
      "metadata": {
        "id": "kVUF0cZY1LOl",
        "colab_type": "code",
        "colab": {
          "base_uri": "https://localhost:8080/",
          "height": 128
        },
        "outputId": "109729a7-ef17-4a6f-b6ff-ba2e5883a4ab"
      },
      "source": [
        "# Loading google drive\n",
        "\n",
        "from google.colab import drive\n",
        "\n",
        "drive.mount('/content/drive/')"
      ],
      "execution_count": 3,
      "outputs": [
        {
          "output_type": "stream",
          "text": [
            "Go to this URL in a browser: https://accounts.google.com/o/oauth2/auth?client_id=947318989803-6bn6qk8qdgf4n4g3pfee6491hc0brc4i.apps.googleusercontent.com&redirect_uri=urn%3Aietf%3Awg%3Aoauth%3A2.0%3Aoob&scope=email%20https%3A%2F%2Fwww.googleapis.com%2Fauth%2Fdocs.test%20https%3A%2F%2Fwww.googleapis.com%2Fauth%2Fdrive%20https%3A%2F%2Fwww.googleapis.com%2Fauth%2Fdrive.photos.readonly%20https%3A%2F%2Fwww.googleapis.com%2Fauth%2Fpeopleapi.readonly&response_type=code\n",
            "\n",
            "Enter your authorization code:\n",
            "··········\n",
            "Mounted at /content/drive/\n"
          ],
          "name": "stdout"
        }
      ]
    },
    {
      "cell_type": "code",
      "metadata": {
        "id": "31jVGX101LdT",
        "colab_type": "code",
        "colab": {}
      },
      "source": [
        "# Data location\n",
        "\n",
        "project_path = \"/content/drive/My Drive/External_Lab_10\""
      ],
      "execution_count": 0,
      "outputs": []
    },
    {
      "cell_type": "code",
      "metadata": {
        "_cell_guid": "79c7e3d0-c299-4dcb-8224-4455121ee9b0",
        "_uuid": "d629ff2d2480ee46fbb7e2d37f6b5fab8052498a",
        "id": "MHh7lgjP0Gte",
        "colab_type": "code",
        "colab": {
          "base_uri": "https://localhost:8080/",
          "height": 35
        },
        "outputId": "b360b388-ced9-41b6-8321-b8213cd5cf82"
      },
      "source": [
        "# Laoding data \n",
        "\n",
        "npz = np.load('/content/drive/My Drive/External_Lab_10/input_data.npz')\n",
        "X_train = npz['X_train']\n",
        "Y_train = npz['Y_train']\n",
        "del npz\n",
        "print ('We have {} examples to work with'.format(Y_train.shape[0]-1000))"
      ],
      "execution_count": 11,
      "outputs": [
        {
          "output_type": "stream",
          "text": [
            "We have 3113 examples to work with\n"
          ],
          "name": "stdout"
        }
      ]
    },
    {
      "cell_type": "markdown",
      "metadata": {
        "_cell_guid": "ed28bc84-1a8a-472f-98ae-9553fe6d1097",
        "_uuid": "b2e2306b8b16ae7f4f9b63249d1f2ff6e29559d3",
        "id": "ZtXwQhQM0Gty",
        "colab_type": "text"
      },
      "source": [
        "## Check the data\n",
        "\n",
        "Load some of the images to observe how your data look like."
      ]
    },
    {
      "cell_type": "code",
      "metadata": {
        "id": "HIIaC44r0Gt3",
        "colab_type": "code",
        "colab": {
          "base_uri": "https://localhost:8080/",
          "height": 315
        },
        "outputId": "fb96d7ed-b1b0-4caf-908e-238229c22f15"
      },
      "source": [
        "# Seing tenth image just as the overview of data\n",
        "\n",
        "ix = 10 #0-4112\n",
        "imshow(np.squeeze(X_train[ix,:,:,2]))#Looking at the combined channel\n",
        "plt.show()\n",
        "labels = ['Ship','Iceberg']#0 is no iceberg(ship) and 1 is iceberg]\n",
        "print ('This is:',labels[int(Y_train[ix])])"
      ],
      "execution_count": 14,
      "outputs": [
        {
          "output_type": "display_data",
          "data": {
            "image/png": "[encoded data removed]",
            "text/plain": [
              "<Figure size 432x288 with 2 Axes>"
            ]
          },
          "metadata": {
            "tags": []
          }
        },
        {
          "output_type": "stream",
          "text": [
            "This is: Iceberg\n"
          ],
          "name": "stdout"
        }
      ]
    },
    {
      "cell_type": "markdown",
      "metadata": {
        "id": "L23qQNbe0GuB",
        "colab_type": "text"
      },
      "source": [
        "# Creating the structure of Siamese Network"
      ]
    },
    {
      "cell_type": "markdown",
      "metadata": {
        "id": "NM1jEZsR0GuG",
        "colab_type": "raw"
      },
      "source": [
        "You just need to break it into some steps:\n",
        "1. 2 Inputs for each images\n",
        "2. Creating a network which both images will go through individually\n",
        "3. Couple the network to each input\n",
        "4. Calculate the L1 distance between them. Just (x1,y1)-(x2,y2)\n",
        "5. 1 Added layer that will say 1 if they are the same and 0 if they are different"
      ]
    },
    {
      "cell_type": "markdown",
      "metadata": {
        "id": "Ptvulp140GuK",
        "colab_type": "text"
      },
      "source": [
        "# Create two Inputs for each image - left_input and right_input\n",
        "Hint - use Input Function in Keras and keep the shape to be 75,75,3"
      ]
    },
    {
      "cell_type": "code",
      "metadata": {
        "id": "3SAggfIG0GuN",
        "colab_type": "code",
        "colab": {}
      },
      "source": [
        "# Creating left & right inputs \n",
        "\n",
        "left_input = Input((75,75,3))\n",
        "right_input = Input((75,75,3))"
      ],
      "execution_count": 0,
      "outputs": []
    },
    {
      "cell_type": "markdown",
      "metadata": {
        "id": "vFff3ist0GuY",
        "colab_type": "text"
      },
      "source": [
        "# Create a base Network in which both images will go through individually.\n",
        "\n",
        "Hint - Use Sequential Model in Keras with convolution layers, Maxpooling Layers, Flatten Layer and Denser Layer with appropriate activation functions.\n",
        "Name the network as base_network"
      ]
    },
    {
      "cell_type": "code",
      "metadata": {
        "id": "pPOLHUpW0Guc",
        "colab_type": "code",
        "colab": {
          "base_uri": "https://localhost:8080/",
          "height": 92
        },
        "outputId": "ef915a4d-fba1-40e7-e91b-e26a37ed0a90"
      },
      "source": [
        "# Creating base network \n",
        "\n",
        "convnet = Sequential([\n",
        "    Conv2D(5,3, input_shape=(75,75,3)),\n",
        "    Activation('relu'),\n",
        "    MaxPooling2D(),\n",
        "    Conv2D(5,3),\n",
        "    Activation('relu'),\n",
        "    MaxPooling2D(),\n",
        "    Conv2D(7,2),\n",
        "    Activation('relu'),\n",
        "    MaxPooling2D(),\n",
        "    Conv2D(7,2),\n",
        "    Activation('relu'),\n",
        "    Flatten(),\n",
        "    Dense(18),\n",
        "    Activation('sigmoid')\n",
        "])"
      ],
      "execution_count": 18,
      "outputs": [
        {
          "output_type": "stream",
          "text": [
            "WARNING:tensorflow:From /usr/local/lib/python3.6/dist-packages/tensorflow/python/framework/op_def_library.py:263: colocate_with (from tensorflow.python.framework.ops) is deprecated and will be removed in a future version.\n",
            "Instructions for updating:\n",
            "Colocations handled automatically by placer.\n"
          ],
          "name": "stdout"
        }
      ]
    },
    {
      "cell_type": "markdown",
      "metadata": {
        "id": "BBxWXll_0Guv",
        "colab_type": "text"
      },
      "source": [
        "# Process the left and right inputs to the same Base Network(base_network)"
      ]
    },
    {
      "cell_type": "code",
      "metadata": {
        "id": "j3gp2cQV0Guz",
        "colab_type": "code",
        "colab": {}
      },
      "source": [
        "# Processing the left & right inputs in the network created above\n",
        "\n",
        "encoded_l = convnet(left_input)\n",
        "encoded_r = convnet(right_input)"
      ],
      "execution_count": 0,
      "outputs": []
    },
    {
      "cell_type": "markdown",
      "metadata": {
        "id": "c9nBKlZl0GvL",
        "colab_type": "text"
      },
      "source": [
        "# Get the L1 Distance layer between the 2 processed encodings (processed_a and processed_b)\n",
        "Hint - You can use Lambda function for this."
      ]
    },
    {
      "cell_type": "code",
      "metadata": {
        "id": "W_3wZimg0GvN",
        "colab_type": "code",
        "colab": {}
      },
      "source": [
        "# L1 distance \n",
        "L1_layer = Lambda(lambda tensor:K.abs(tensor[0] - tensor[1]))"
      ],
      "execution_count": 0,
      "outputs": []
    },
    {
      "cell_type": "code",
      "metadata": {
        "id": "0VmRug_T0GvW",
        "colab_type": "code",
        "colab": {}
      },
      "source": [
        "# Getting L1 Distance layer between the 2 processed encoding\n",
        "L1_distance = L1_layer([encoded_l, encoded_r])"
      ],
      "execution_count": 0,
      "outputs": []
    },
    {
      "cell_type": "markdown",
      "metadata": {
        "id": "_X8O7-3_0Gvi",
        "colab_type": "text"
      },
      "source": [
        "# Add the prediction layer in the end and create the Siamese Network using Model function."
      ]
    },
    {
      "cell_type": "code",
      "metadata": {
        "id": "vxPjaWEW0Gvl",
        "colab_type": "code",
        "colab": {}
      },
      "source": [
        "# Prediction layer\n",
        "prediction = Dense(1,activation='sigmoid')(L1_distance)\n",
        "\n",
        "#Creating Siamese network using model function\n",
        "siamese_net = Model(inputs=[left_input,right_input],outputs=prediction)\n"
      ],
      "execution_count": 0,
      "outputs": []
    },
    {
      "cell_type": "markdown",
      "metadata": {
        "id": "i12vWZUa0Gvu",
        "colab_type": "text"
      },
      "source": [
        "# Define the Optimizer Adam and Compile the Siamese Model."
      ]
    },
    {
      "cell_type": "code",
      "metadata": {
        "id": "dck4qgxX0Gvx",
        "colab_type": "code",
        "colab": {}
      },
      "source": [
        "# Defining the optimizer\n",
        "optimizer = Adam(0.001, decay=2.5e-4)"
      ],
      "execution_count": 0,
      "outputs": []
    },
    {
      "cell_type": "code",
      "metadata": {
        "id": "64pcQno85Ss4",
        "colab_type": "code",
        "colab": {}
      },
      "source": [
        "# Compiling Siamese Model\n",
        "siamese_net.compile(loss=\"binary_crossentropy\",optimizer=optimizer,metrics=['accuracy'])"
      ],
      "execution_count": 0,
      "outputs": []
    },
    {
      "cell_type": "markdown",
      "metadata": {
        "_cell_guid": "dbba8e74-6b9c-4c84-96ed-55137265280b",
        "_uuid": "28e3843cae1a192bb14eb04cc1fe1705ef69f405",
        "id": "8FO7SmR60Gv3",
        "colab_type": "text"
      },
      "source": [
        "# Show the Summary of your Siamese Network"
      ]
    },
    {
      "cell_type": "markdown",
      "metadata": {
        "id": "UqUdycnx0GwC",
        "colab_type": "text"
      },
      "source": [
        "# Creating the Pair of Images to train on"
      ]
    },
    {
      "cell_type": "markdown",
      "metadata": {
        "_cell_guid": "7080234f-01f4-4df1-88a7-459746335c50",
        "_uuid": "4553890c8130dc76076252a09290497a4afc27e6",
        "id": "JljSlVLO0GwF",
        "colab_type": "text"
      },
      "source": [
        "It's not time to train though. We still have to create pairs of images to train on. There will be Positive(the same class) or Negative(different classes) for outputs. Let's construct this dataset. It is recommended that there are equal amounts positive and negative."
      ]
    },
    {
      "cell_type": "code",
      "metadata": {
        "_cell_guid": "32cb30db-144d-4f93-af05-6cb9a697c084",
        "_uuid": "09a3e9d488acd34e99912c5f01474029e77637f5",
        "id": "wTD2d3fq0GwH",
        "colab_type": "code",
        "colab": {}
      },
      "source": [
        "# Creating pair of images to train on\n",
        "\n",
        "# First let's separate the dataset from 1 matrix to a list of matricies\n",
        "image_list = np.split(X_train[:1000],1000)\n",
        "label_list = np.split(Y_train[:1000],1000)\n",
        "\n",
        "left_input = []\n",
        "right_input = []\n",
        "targets = []\n",
        "\n",
        "#Number of pairs per image\n",
        "pairs = 5\n",
        "#Let's create the new dataset to train on\n",
        "for i in range(len(label_list)):\n",
        "    for _ in range(pairs):\n",
        "        compare_to = i\n",
        "        while compare_to == i: #Make sure it's not comparing to itself\n",
        "            compare_to = random.randint(0,999)\n",
        "        left_input.append(image_list[i])\n",
        "        right_input.append(image_list[compare_to])\n",
        "        if label_list[i] == label_list[compare_to]:# They are the same\n",
        "            targets.append(1.)\n",
        "        else:# Not the same\n",
        "            targets.append(0.)\n",
        "            \n",
        "left_input = np.squeeze(np.array(left_input))\n",
        "right_input = np.squeeze(np.array(right_input))\n",
        "targets = np.squeeze(np.array(targets))\n",
        "\n",
        "iceimage = X_train[101]\n",
        "test_left = []\n",
        "test_right = []\n",
        "test_targets = []\n",
        "\n",
        "for i in range(Y_train.shape[0]-1000):\n",
        "    test_left.append(iceimage)\n",
        "    test_right.append(X_train[i+1000])\n",
        "    test_targets.append(Y_train[i+1000])\n",
        "\n",
        "test_left = np.squeeze(np.array(test_left))\n",
        "test_right = np.squeeze(np.array(test_right))\n",
        "test_targets = np.squeeze(np.array(test_targets))"
      ],
      "execution_count": 0,
      "outputs": []
    },
    {
      "cell_type": "markdown",
      "metadata": {
        "id": "6uKjCXGP0GwP",
        "colab_type": "text"
      },
      "source": [
        "Now we have a lot more examples.\n",
        "Now we have pairs x 1000 examples to train the network on. \n",
        "Each side will have an input of an image and the output will be one if they are the same and zero if not."
      ]
    },
    {
      "cell_type": "markdown",
      "metadata": {
        "id": "ss9rA8n80GwU",
        "colab_type": "text"
      },
      "source": [
        "# Train the Siamese train on left and right input image pairs created and validate it by test pairs."
      ]
    },
    {
      "cell_type": "code",
      "metadata": {
        "id": "DtporyUs0GwW",
        "colab_type": "code",
        "colab": {
          "base_uri": "https://localhost:8080/",
          "height": 1563
        },
        "outputId": "bd266042-aa1c-4474-ed4f-ea0a239a41af"
      },
      "source": [
        "# Training the siamese network & validating it be test pairs\n",
        "\n",
        "siamese_net.summary()\n",
        "siamese_net.fit([left_input,right_input], targets,\n",
        "          batch_size=16,\n",
        "          epochs=30,\n",
        "          verbose=1,\n",
        "          validation_data=([test_left,test_right],test_targets))"
      ],
      "execution_count": 27,
      "outputs": [
        {
          "output_type": "stream",
          "text": [
            "__________________________________________________________________________________________________\n",
            "Layer (type)                    Output Shape         Param #     Connected to                     \n",
            "==================================================================================================\n",
            "input_5 (InputLayer)            (None, 75, 75, 3)    0                                            \n",
            "__________________________________________________________________________________________________\n",
            "input_6 (InputLayer)            (None, 75, 75, 3)    0                                            \n",
            "__________________________________________________________________________________________________\n",
            "sequential_1 (Sequential)       (None, 18)           6912        input_5[0][0]                    \n",
            "                                                                 input_6[0][0]                    \n",
            "__________________________________________________________________________________________________\n",
            "lambda_1 (Lambda)               (None, 18)           0           sequential_1[1][0]               \n",
            "                                                                 sequential_1[2][0]               \n",
            "__________________________________________________________________________________________________\n",
            "dense_2 (Dense)                 (None, 1)            19          lambda_1[0][0]                   \n",
            "==================================================================================================\n",
            "Total params: 6,931\n",
            "Trainable params: 6,931\n",
            "Non-trainable params: 0\n",
            "__________________________________________________________________________________________________\n",
            "WARNING:tensorflow:From /usr/local/lib/python3.6/dist-packages/tensorflow/python/ops/math_ops.py:3066: to_int32 (from tensorflow.python.ops.math_ops) is deprecated and will be removed in a future version.\n",
            "Instructions for updating:\n",
            "Use tf.cast instead.\n",
            "Train on 5000 samples, validate on 3113 samples\n",
            "Epoch 1/30\n",
            "5000/5000 [==============================] - 50s 10ms/step - loss: 0.6732 - acc: 0.5800 - val_loss: 0.7541 - val_acc: 0.3938\n",
            "Epoch 2/30\n",
            "5000/5000 [==============================] - 50s 10ms/step - loss: 0.6261 - acc: 0.6550 - val_loss: 0.6435 - val_acc: 0.7025\n",
            "Epoch 3/30\n",
            "5000/5000 [==============================] - 51s 10ms/step - loss: 0.5729 - acc: 0.7180 - val_loss: 0.6056 - val_acc: 0.7324\n",
            "Epoch 4/30\n",
            "5000/5000 [==============================] - 51s 10ms/step - loss: 0.5345 - acc: 0.7504 - val_loss: 0.7070 - val_acc: 0.5217\n",
            "Epoch 5/30\n",
            "5000/5000 [==============================] - 51s 10ms/step - loss: 0.5013 - acc: 0.7724 - val_loss: 0.6636 - val_acc: 0.5959\n",
            "Epoch 6/30\n",
            "5000/5000 [==============================] - 51s 10ms/step - loss: 0.4799 - acc: 0.7844 - val_loss: 0.5316 - val_acc: 0.7963\n",
            "Epoch 7/30\n",
            "5000/5000 [==============================] - 51s 10ms/step - loss: 0.4561 - acc: 0.7960 - val_loss: 0.6170 - val_acc: 0.6704\n",
            "Epoch 8/30\n",
            "5000/5000 [==============================] - 51s 10ms/step - loss: 0.4388 - acc: 0.8126 - val_loss: 0.4714 - val_acc: 0.8111\n",
            "Epoch 9/30\n",
            "5000/5000 [==============================] - 51s 10ms/step - loss: 0.4178 - acc: 0.8168 - val_loss: 0.4962 - val_acc: 0.8018\n",
            "Epoch 10/30\n",
            "5000/5000 [==============================] - 51s 10ms/step - loss: 0.4010 - acc: 0.8308 - val_loss: 0.5477 - val_acc: 0.7633\n",
            "Epoch 11/30\n",
            "5000/5000 [==============================] - 51s 10ms/step - loss: 0.3846 - acc: 0.8406 - val_loss: 0.4604 - val_acc: 0.8105\n",
            "Epoch 12/30\n",
            "5000/5000 [==============================] - 51s 10ms/step - loss: 0.3709 - acc: 0.8440 - val_loss: 0.4885 - val_acc: 0.8028\n",
            "Epoch 13/30\n",
            "5000/5000 [==============================] - 51s 10ms/step - loss: 0.3539 - acc: 0.8582 - val_loss: 0.4766 - val_acc: 0.8069\n",
            "Epoch 14/30\n",
            "5000/5000 [==============================] - 51s 10ms/step - loss: 0.3418 - acc: 0.8672 - val_loss: 0.4890 - val_acc: 0.8031\n",
            "Epoch 15/30\n",
            "5000/5000 [==============================] - 51s 10ms/step - loss: 0.3264 - acc: 0.8746 - val_loss: 0.4715 - val_acc: 0.8092\n",
            "Epoch 16/30\n",
            "5000/5000 [==============================] - 51s 10ms/step - loss: 0.3156 - acc: 0.8828 - val_loss: 0.4750 - val_acc: 0.8066\n",
            "Epoch 17/30\n",
            "5000/5000 [==============================] - 51s 10ms/step - loss: 0.3010 - acc: 0.8876 - val_loss: 0.5099 - val_acc: 0.7976\n",
            "Epoch 18/30\n",
            "5000/5000 [==============================] - 51s 10ms/step - loss: 0.2900 - acc: 0.8952 - val_loss: 0.4804 - val_acc: 0.8082\n",
            "Epoch 19/30\n",
            "5000/5000 [==============================] - 51s 10ms/step - loss: 0.2819 - acc: 0.8970 - val_loss: 0.4942 - val_acc: 0.8063\n",
            "Epoch 20/30\n",
            "5000/5000 [==============================] - 51s 10ms/step - loss: 0.2739 - acc: 0.9026 - val_loss: 0.4960 - val_acc: 0.8028\n",
            "Epoch 21/30\n",
            "5000/5000 [==============================] - 51s 10ms/step - loss: 0.2671 - acc: 0.9006 - val_loss: 0.4912 - val_acc: 0.8047\n",
            "Epoch 22/30\n",
            "5000/5000 [==============================] - 51s 10ms/step - loss: 0.2555 - acc: 0.9102 - val_loss: 0.5112 - val_acc: 0.8015\n",
            "Epoch 23/30\n",
            "5000/5000 [==============================] - 51s 10ms/step - loss: 0.2498 - acc: 0.9112 - val_loss: 0.4879 - val_acc: 0.8057\n",
            "Epoch 24/30\n",
            "5000/5000 [==============================] - 51s 10ms/step - loss: 0.2450 - acc: 0.9122 - val_loss: 0.4959 - val_acc: 0.8053\n",
            "Epoch 25/30\n",
            "5000/5000 [==============================] - 51s 10ms/step - loss: 0.2372 - acc: 0.9166 - val_loss: 0.5215 - val_acc: 0.7979\n",
            "Epoch 26/30\n",
            "5000/5000 [==============================] - 51s 10ms/step - loss: 0.2309 - acc: 0.9176 - val_loss: 0.5054 - val_acc: 0.8015\n",
            "Epoch 27/30\n",
            "5000/5000 [==============================] - 51s 10ms/step - loss: 0.2250 - acc: 0.9200 - val_loss: 0.5354 - val_acc: 0.7951\n",
            "Epoch 28/30\n",
            "5000/5000 [==============================] - 51s 10ms/step - loss: 0.2197 - acc: 0.9208 - val_loss: 0.5293 - val_acc: 0.7996\n",
            "Epoch 29/30\n",
            "5000/5000 [==============================] - 51s 10ms/step - loss: 0.2142 - acc: 0.9236 - val_loss: 0.5188 - val_acc: 0.8002\n",
            "Epoch 30/30\n",
            "5000/5000 [==============================] - 51s 10ms/step - loss: 0.2096 - acc: 0.9250 - val_loss: 0.5237 - val_acc: 0.7999\n"
          ],
          "name": "stdout"
        },
        {
          "output_type": "execute_result",
          "data": {
            "text/plain": [
              "<keras.callbacks.History at 0x7fda0ce675c0>"
            ]
          },
          "metadata": {
            "tags": []
          },
          "execution_count": 27
        }
      ]
    },
    {
      "cell_type": "code",
      "metadata": {
        "id": "v3oppmpQPyFX",
        "colab_type": "code",
        "colab": {}
      },
      "source": [
        "# Model accuracy is 92.5% & accuracy on validation test set is around 80%"
      ],
      "execution_count": 0,
      "outputs": []
    }
  ]
}